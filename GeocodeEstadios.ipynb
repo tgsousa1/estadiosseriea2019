{
 "cells": [
  {
   "cell_type": "code",
   "execution_count": 1,
   "metadata": {},
   "outputs": [
    {
     "data": {
      "text/plain": [
       "array([['Estádio Urbano Caldeira', 'Santos, SP', '16068', 'Santos FC',\n",
       "        'https://en.wikipedia.org/wiki/Est%C3%A1dio_Urbano_Caldeira'],\n",
       "       ['Allianz Parque', 'São Paulo, SP', '43713', 'Palmeiras',\n",
       "        'https://en.wikipedia.org/wiki/Allianz_Parque'],\n",
       "       ['Estádio do Morumbi', 'São Paulo, SP', '67052', 'Sao Paulo FC',\n",
       "        'https://en.wikipedia.org/wiki/Est%C3%A1dio_do_Morumbi'],\n",
       "       ['Arena Corinthians', 'São Paulo, SP', '47,605', 'Corinthians',\n",
       "        'https://pt.wikipedia.org/wiki/Arena_Corinthians'],\n",
       "       ['Arena Independência', 'Belo Horizonte, MG', '23018',\n",
       "        'Atlético Mineiro',\n",
       "        'https://pt.wikipedia.org/wiki/Est%C3%A1dio_Raimundo_Sampaio'],\n",
       "       ['Estádio Governador Magalhães Pinto', 'Belo Horizonte, MG',\n",
       "        '61846', 'Cruzeiro',\n",
       "        'https://pt.wikipedia.org/wiki/Est%C3%A1dio_Governador_Magalh%C3%A3es_Pinto'],\n",
       "       ['Estádio Maracanã', 'Rio de Janeiro, RJ', '78838', 'Flamengo',\n",
       "        'https://pt.wikipedia.org/wiki/Est%C3%A1dio_do_Maracan%C3%A3'],\n",
       "       ['Estádio Maracanã', 'Rio de Janeiro, RJ', '78838', 'Fluminense',\n",
       "        'https://pt.wikipedia.org/wiki/Est%C3%A1dio_do_Maracan%C3%A3'],\n",
       "       ['Estádio Olimpico Nilton Santos', 'Rio de Janeiro, RJ', '44661',\n",
       "        'Botafogo',\n",
       "        'https://pt.wikipedia.org/wiki/Est%C3%A1dio_Ol%C3%ADmpico_Nilton_Santos'],\n",
       "       ['Estádio São Januário', 'Rio de Janeiro, RJ', '21680', 'Vasco',\n",
       "        'https://pt.wikipedia.org/wiki/Est%C3%A1dio_Vasco_da_Gama'],\n",
       "       ['Estádio Serra Dourada', 'Goiânia, GO', '42000', 'Goiás',\n",
       "        'https://pt.wikipedia.org/wiki/Est%C3%A1dio_Serra_Dourada'],\n",
       "       ['Arena Castelão', 'Fortaleza, CE', '63903', 'Ceará',\n",
       "        'https://pt.wikipedia.org/wiki/Est%C3%A1dio_Governador_Pl%C3%A1cido_Castelo'],\n",
       "       ['Arena Castelão', 'Fortaleza, CE', '63903', 'Fortaleza',\n",
       "        'https://pt.wikipedia.org/wiki/Est%C3%A1dio_Governador_Pl%C3%A1cido_Castelo'],\n",
       "       ['Itaipava Arena Fonte Nova', 'Salvador, BA', '50025', 'Bahia',\n",
       "        'https://pt.wikipedia.org/wiki/Arena_Fonte_Nova'],\n",
       "       ['Estádio Rei Pelé', 'Maceió, AL', '19105', 'CSA',\n",
       "        'https://pt.wikipedia.org/wiki/Est%C3%A1dio_Rei_Pel%C3%A9'],\n",
       "       ['Estádio Joaquim Américo Guimarães', 'Curitiba, PR', '42370',\n",
       "        'Athletico Paranaense',\n",
       "        'https://pt.wikipedia.org/wiki/Est%C3%A1dio_Joaquim_Am%C3%A9rico_Guimar%C3%A3es'],\n",
       "       ['Estádio da Ressacada', 'Florianópolis, SC', '17826', 'Avaí',\n",
       "        'https://pt.wikipedia.org/wiki/Est%C3%A1dio_Aderbal_Ramos_da_Silva'],\n",
       "       ['Arena do Grêmio', 'Porto Alegre, RS', '55662', 'Grêmio',\n",
       "        'https://pt.wikipedia.org/wiki/Arena_do_Gr%C3%AAmio'],\n",
       "       ['Beira Rio Estádio', 'Porto Alegre, RS', '50128',\n",
       "        'Internacional',\n",
       "        'https://pt.wikipedia.org/wiki/Est%C3%A1dio_Beira-Rio'],\n",
       "       ['Arena Condá', 'Chapecó, SC', '20089', 'Chapecoense',\n",
       "        'https://pt.wikipedia.org/wiki/Arena_Cond%C3%A1']], dtype=object)"
      ]
     },
     "execution_count": 1,
     "metadata": {},
     "output_type": "execute_result"
    }
   ],
   "source": [
    "import numpy as np\n",
    "from pandas import read_csv\n",
    "\n",
    "dados = read_csv('Estadios - Serie A - Sheet1.csv')\n",
    "\n",
    "dadoslista = np.array(dados)\n",
    "\n",
    "dadoslista"
   ]
  },
  {
   "cell_type": "code",
   "execution_count": 2,
   "metadata": {},
   "outputs": [
    {
     "data": {
      "text/plain": [
       "array([['Estádio Urbano Caldeira', 'Santos, SP'],\n",
       "       ['Allianz Parque', 'São Paulo, SP'],\n",
       "       ['Estádio do Morumbi', 'São Paulo, SP'],\n",
       "       ['Arena Corinthians', 'São Paulo, SP'],\n",
       "       ['Arena Independência', 'Belo Horizonte, MG'],\n",
       "       ['Estádio Governador Magalhães Pinto', 'Belo Horizonte, MG'],\n",
       "       ['Estádio Maracanã', 'Rio de Janeiro, RJ'],\n",
       "       ['Estádio Maracanã', 'Rio de Janeiro, RJ'],\n",
       "       ['Estádio Olimpico Nilton Santos', 'Rio de Janeiro, RJ'],\n",
       "       ['Estádio São Januário', 'Rio de Janeiro, RJ'],\n",
       "       ['Estádio Serra Dourada', 'Goiânia, GO'],\n",
       "       ['Arena Castelão', 'Fortaleza, CE'],\n",
       "       ['Arena Castelão', 'Fortaleza, CE'],\n",
       "       ['Itaipava Arena Fonte Nova', 'Salvador, BA'],\n",
       "       ['Estádio Rei Pelé', 'Maceió, AL'],\n",
       "       ['Estádio Joaquim Américo Guimarães', 'Curitiba, PR'],\n",
       "       ['Estádio da Ressacada', 'Florianópolis, SC'],\n",
       "       ['Arena do Grêmio', 'Porto Alegre, RS'],\n",
       "       ['Beira Rio Estádio', 'Porto Alegre, RS'],\n",
       "       ['Arena Condá', 'Chapecó, SC']], dtype=object)"
      ]
     },
     "execution_count": 2,
     "metadata": {},
     "output_type": "execute_result"
    }
   ],
   "source": [
    "listaend=dadoslista[:,:2]\n",
    "\n",
    "listaend"
   ]
  },
  {
   "cell_type": "code",
   "execution_count": 3,
   "metadata": {},
   "outputs": [],
   "source": [
    "from geopy.geocoders import Nominatim\n",
    "\n",
    "geolocator = Nominatim(user_agent=\"estadiosA\")\n",
    "latitude=[]\n",
    "longitude=[]\n",
    "\n",
    "for i in listaend:\n",
    "    location = geolocator.geocode(i)\n",
    "    latitude.append(location.latitude)\n",
    "    longitude.append(location.longitude)"
   ]
  },
  {
   "cell_type": "code",
   "execution_count": 6,
   "metadata": {},
   "outputs": [
    {
     "name": "stdout",
     "output_type": "stream",
     "text": [
      "[-23.9510947, -23.52743425, -23.5999512, -23.54552655, -19.9083526, -19.86588775, -22.91209195, -22.91209195, -23.0222064, -22.8908633, -16.69905045, -3.806742, -3.806742, -12.97871945, -9.67090735, -25.4484176, -27.66628645, -29.97404295, -30.0654898, -27.10409275]\n",
      "[-46.3388875770901, -46.6778330775165, -46.7201502539632, -46.4741903596486, -43.9177779748252, -43.9710690415096, -43.2311454059056, -43.2311454059056, -43.5099444, -43.2282649713569, -49.235093092244, -38.5216790512292, -38.5216790512292, -38.5042329523609, -35.7596545668148, -49.2768562652109, -48.5317363349615, -51.1951073493717, -51.2349177815969, -52.6069827046449]\n"
     ]
    }
   ],
   "source": [
    "print(latitude)\n",
    "print(longitude)"
   ]
  },
  {
   "cell_type": "code",
   "execution_count": 4,
   "metadata": {},
   "outputs": [],
   "source": [
    "listaend = listaend.tolist()"
   ]
  },
  {
   "cell_type": "code",
   "execution_count": 5,
   "metadata": {},
   "outputs": [],
   "source": [
    "\n",
    "for i in range(len(listaend)):\n",
    "    listaend[i].append(latitude[i])\n",
    "    listaend[i].append(longitude[i])"
   ]
  },
  {
   "cell_type": "code",
   "execution_count": 6,
   "metadata": {},
   "outputs": [
    {
     "data": {
      "text/plain": [
       "[['Estádio Urbano Caldeira', 'Santos, SP', -23.9510947, -46.3388875770901],\n",
       " ['Allianz Parque', 'São Paulo, SP', -23.52743425, -46.6778330775165],\n",
       " ['Estádio do Morumbi', 'São Paulo, SP', -23.5999512, -46.7201502539632],\n",
       " ['Arena Corinthians', 'São Paulo, SP', -23.54552655, -46.4741903596486],\n",
       " ['Arena Independência', 'Belo Horizonte, MG', -19.9083526, -43.9177779748252],\n",
       " ['Estádio Governador Magalhães Pinto',\n",
       "  'Belo Horizonte, MG',\n",
       "  -19.86588775,\n",
       "  -43.9710690415096],\n",
       " ['Estádio Maracanã', 'Rio de Janeiro, RJ', -22.91209195, -43.2311454059056],\n",
       " ['Estádio Maracanã', 'Rio de Janeiro, RJ', -22.91209195, -43.2311454059056],\n",
       " ['Estádio Olimpico Nilton Santos',\n",
       "  'Rio de Janeiro, RJ',\n",
       "  -22.89319105,\n",
       "  -43.2933811318224],\n",
       " ['Estádio São Januário',\n",
       "  'Rio de Janeiro, RJ',\n",
       "  -22.8908633,\n",
       "  -43.2282649713569],\n",
       " ['Estádio Serra Dourada', 'Goiânia, GO', -16.69905045, -49.235093092244],\n",
       " ['Arena Castelão', 'Fortaleza, CE', -3.806742, -38.5216790512292],\n",
       " ['Arena Castelão', 'Fortaleza, CE', -3.806742, -38.5216790512292],\n",
       " ['Itaipava Arena Fonte Nova',\n",
       "  'Salvador, BA',\n",
       "  -12.97871945,\n",
       "  -38.5042329523609],\n",
       " ['Estádio Rei Pelé', 'Maceió, AL', -9.67090735, -35.7596545668148],\n",
       " ['Estádio Joaquim Américo Guimarães',\n",
       "  'Curitiba, PR',\n",
       "  -25.4484176,\n",
       "  -49.2768562652109],\n",
       " ['Estádio da Ressacada',\n",
       "  'Florianópolis, SC',\n",
       "  -27.66628645,\n",
       "  -48.5317363349615],\n",
       " ['Arena do Grêmio', 'Porto Alegre, RS', -29.97404295, -51.1951073493717],\n",
       " ['Beira Rio Estádio', 'Porto Alegre, RS', -30.0654898, -51.2349177815969],\n",
       " ['Arena Condá', 'Chapecó, SC', -27.10409275, -52.6069827046449]]"
      ]
     },
     "execution_count": 6,
     "metadata": {},
     "output_type": "execute_result"
    }
   ],
   "source": [
    "listaend"
   ]
  },
  {
   "cell_type": "code",
   "execution_count": 19,
   "metadata": {},
   "outputs": [],
   "source": [
    "import pandas as pd\n",
    "df = pd.DataFrame(listaend)\n",
    "cabeca = [\"Estadio\",\"Cidade\",\"Latitude\",\"Longitude\"]\n",
    "#df.to_csv(\"lista1.csv\", header=headers, encoding=\"utf-8-sig\")\n",
    "df.to_csv(\"lista_finalf.csv\",encoding=\"utf-8-sig\",header=cabeca)"
   ]
  }
 ],
 "metadata": {
  "kernelspec": {
   "display_name": "Python 3",
   "language": "python",
   "name": "python3"
  },
  "language_info": {
   "codemirror_mode": {
    "name": "ipython",
    "version": 3
   },
   "file_extension": ".py",
   "mimetype": "text/x-python",
   "name": "python",
   "nbconvert_exporter": "python",
   "pygments_lexer": "ipython3",
   "version": "3.7.3"
  }
 },
 "nbformat": 4,
 "nbformat_minor": 2
}
